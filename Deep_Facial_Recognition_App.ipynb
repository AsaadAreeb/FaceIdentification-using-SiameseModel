{
 "cells": [
  {
   "cell_type": "markdown",
   "metadata": {
    "id": "DfgmULKV008c"
   },
   "source": [
    "# 1. Implementing: https://www.cs.cmu.edu/~rsalakhu/papers/oneshot1.pdf"
   ]
  },
  {
   "cell_type": "markdown",
   "metadata": {
    "id": "vH87_TRvcS3C"
   },
   "source": [
    "# 1.1. Install"
   ]
  },
  {
   "cell_type": "code",
   "execution_count": null,
   "metadata": {
    "id": "5qmMo83MbU7t"
   },
   "outputs": [],
   "source": [
    "# !pip install tensorflow tensorflow-gpu opencv-python matplotlib"
   ]
  },
  {
   "cell_type": "markdown",
   "metadata": {
    "id": "KjfxJgr2cpd8"
   },
   "source": [
    "# 1.2. Import"
   ]
  },
  {
   "cell_type": "code",
   "execution_count": null,
   "metadata": {
    "id": "wfQoz_4_culh"
   },
   "outputs": [],
   "source": [
    "# Standard dependencies\n",
    "import cv2 as cv\n",
    "import os\n",
    "import random\n",
    "import numpy as np\n",
    "from matplotlib import pyplot as plt"
   ]
  },
  {
   "cell_type": "code",
   "execution_count": null,
   "metadata": {
    "id": "fv4BQi9bc-j3"
   },
   "outputs": [],
   "source": [
    "# TF dependencies - Functional Api\n",
    "from tensorflow.keras.models import Model\n",
    "from tensorflow.keras.layers import Layer, Conv2D, Dense, MaxPooling2D, Input, Flatten\n",
    "import tensorflow as tf"
   ]
  },
  {
   "cell_type": "markdown",
   "metadata": {
    "id": "Wnyz1CRHhf3e"
   },
   "source": [
    "# 1.3. Set GPU growth"
   ]
  },
  {
   "cell_type": "code",
   "execution_count": null,
   "metadata": {
    "id": "6ZjBu0VGlA_-"
   },
   "outputs": [],
   "source": [
    "# Avoid OOM error by setting GPU memory consumption growth\n",
    "# gpus = tf.config.experimental.list_physical_devices('GPU')\n",
    "# for gpu in gpus:\n",
    "#   tf.config.experimental.set_memory_growth(gpu, True)"
   ]
  },
  {
   "cell_type": "markdown",
   "metadata": {
    "id": "XaLI41c_l2Kh"
   },
   "source": [
    "# 1.4. Folder Structures"
   ]
  },
  {
   "cell_type": "code",
   "execution_count": null,
   "metadata": {
    "id": "AqOT5FR1mCt4"
   },
   "outputs": [],
   "source": [
    "# Setup paths\n",
    "POS_PATH = os.path.join('data', 'positive') # pos verification images path\n",
    "NEG_PATH = os.path.join('data', 'negative') # neg verification images path\n",
    "ANC_PATH = os.path.join('data', 'anchor')"
   ]
  },
  {
   "cell_type": "code",
   "execution_count": null,
   "metadata": {
    "colab": {
     "base_uri": "https://localhost:8080/",
     "height": 35
    },
    "id": "1rpOW_PrwjSu",
    "outputId": "ae246a9b-2ae7-464d-d116-da375b3a88f4"
   },
   "outputs": [],
   "source": [
    "POS_PATH"
   ]
  },
  {
   "cell_type": "code",
   "execution_count": null,
   "metadata": {
    "id": "lPNUDtrvnIxe"
   },
   "outputs": [],
   "source": [
    "# Make the directories\n",
    "os.makedirs(POS_PATH)\n",
    "os.makedirs(NEG_PATH)\n",
    "os.makedirs(ANC_PATH)"
   ]
  },
  {
   "cell_type": "markdown",
   "metadata": {
    "id": "AGGRW8Y6vXgB"
   },
   "source": [
    "# 2. Collect Positive and Anchor"
   ]
  },
  {
   "cell_type": "markdown",
   "metadata": {
    "id": "DMokFJh4x-ta"
   },
   "source": [
    "# 2.1. Untar Labelled faces in the wild Dataset"
   ]
  },
  {
   "cell_type": "markdown",
   "metadata": {
    "id": "DIVEcV9c81w6"
   },
   "source": [
    "#### Data: https://vis-www.cs.umass.edu/lfw/"
   ]
  },
  {
   "cell_type": "code",
   "execution_count": null,
   "metadata": {
    "id": "Bi6AZ8Bc9DDH"
   },
   "outputs": [],
   "source": [
    "# Uncompress Tar file\n",
    "!tar -xf lfw.tgz"
   ]
  },
  {
   "cell_type": "code",
   "execution_count": null,
   "metadata": {
    "id": "V4DcQ2fTHZCC"
   },
   "outputs": [],
   "source": [
    "# Move the LFW images to the following repository data/negative\n",
    "for directory in os.listdir('lfw'):\n",
    "    for file in os.listdir(os.path.join('lfw', directory)):\n",
    "        EX_PATH = os.path.join('lfw', directory, file)\n",
    "        NEW_PATH = os.path.join(NEG_PATH, file)\n",
    "        os.replace(EX_PATH, NEW_PATH)"
   ]
  },
  {
   "cell_type": "markdown",
   "metadata": {
    "id": "F8T7OU2zyKtc"
   },
   "source": [
    "# 2.2. Collect Positive and Anchor classes"
   ]
  },
  {
   "cell_type": "code",
   "execution_count": null,
   "metadata": {},
   "outputs": [],
   "source": [
    "import uuid"
   ]
  },
  {
   "cell_type": "code",
   "execution_count": null,
   "metadata": {},
   "outputs": [],
   "source": [
    "# Establish a connection to the webcam\n",
    "cap = cv.VideoCapture(0)\n",
    "while cap.isOpened():\n",
    "    ret, frame = cap.read()\n",
    "    \n",
    "    # cut down frame\n",
    "    frame = frame[120:120+250, 200:200+250, :]\n",
    "    \n",
    "    # collect anchor\n",
    "    if cv.waitKey(1) & 0XFF == ord('a'):\n",
    "        # create unique name\n",
    "        imgname = os.path.join(ANC_PATH, '{}.jpg'.format(uuid.uuid1()))\n",
    "        cv.imwrite(imgname, frame)\n",
    "        \n",
    "    # collect positives\n",
    "    if cv.waitKey(1) & 0XFF == ord('p'):\n",
    "        imgname = os.path.join(POS_PATH, '{}.jpg'.format(uuid.uuid1()))\n",
    "        cv.imwrite(imgname, frame)\n",
    "        \n",
    "    # show image\n",
    "    cv.imshow(\"Image Collection\", frame)\n",
    "    \n",
    "    if cv.waitKey(1) & 0XFF == ord('q'):\n",
    "        break\n",
    "\n",
    "# Release the webcam\n",
    "cap.release()\n",
    "# Close the imageshow frame\n",
    "cv.destroyAllWindows()"
   ]
  },
  {
   "cell_type": "markdown",
   "metadata": {},
   "source": [
    "# 2.3. Data augmentation"
   ]
  },
  {
   "cell_type": "code",
   "execution_count": null,
   "metadata": {},
   "outputs": [],
   "source": [
    "def data_aug(img):\n",
    "    data = []\n",
    "    for i in range(9):\n",
    "        img = tf.image.stateless_random_brightness(img, max_delta=0.02, seed=(1,2))\n",
    "        img = tf.image.stateless_random_contrast(img, lower=0.6, upper=1, seed=(1,3))\n",
    "        img = tf.image.stateless_random_flip_left_right(img, seed=(np.random.randint(100),np.random.randint(100)))\n",
    "        img = tf.image.stateless_random_jpeg_quality(img, min_jpeg_quality=90, max_jpeg_quality=100, seed=(np.random.randint(100),np.random.randint(100)))\n",
    "        img = tf.image.stateless_random_saturation(img, lower=0.9,upper=1, seed=(np.random.randint(100),np.random.randint(100)))\n",
    "            \n",
    "        data.append(img)\n",
    "    \n",
    "    return data"
   ]
  },
  {
   "cell_type": "code",
   "execution_count": null,
   "metadata": {},
   "outputs": [],
   "source": [
    "# augmenting all pos images\n",
    "for file_name in os.listdir(os.path.join(POS_PATH)):\n",
    "    img_path = os.path.join(POS_PATH, file_name)\n",
    "    img = cv.imread(img_path)\n",
    "    augmented_images = data_aug(img) \n",
    "    \n",
    "    for image in augmented_images:\n",
    "        cv.imwrite(os.path.join(POS_PATH, '{}.jpg'.format(uuid.uuid1())), image.numpy())"
   ]
  },
  {
   "cell_type": "code",
   "execution_count": null,
   "metadata": {},
   "outputs": [],
   "source": [
    "# augmenting all neg images\n",
    "for file_name in os.listdir(os.path.join(NEG_PATH)):\n",
    "    img_path = os.path.join(NEG_PATH, file_name)\n",
    "    img = cv.imread(img_path)\n",
    "    augmented_images = data_aug(img) \n",
    "    \n",
    "    for image in augmented_images:\n",
    "        cv.imwrite(os.path.join(NEG_PATH, '{}.jpg'.format(uuid.uuid1())), image.numpy())"
   ]
  },
  {
   "cell_type": "markdown",
   "metadata": {
    "id": "sWCSWh4SyYCX"
   },
   "source": [
    "# 3. Load and preprocess images"
   ]
  },
  {
   "cell_type": "markdown",
   "metadata": {
    "id": "rLyAoUysycMd"
   },
   "source": [
    "# 3.1. Get images directories"
   ]
  },
  {
   "cell_type": "code",
   "execution_count": null,
   "metadata": {},
   "outputs": [],
   "source": [
    "anchor = tf.data.Dataset.list_files(ANC_PATH+'\\*.jpg').take(3000) # take all files matching the pattern within `list_files`\n",
    "positive = tf.data.Dataset.list_files(POS_PATH+'\\*.jpg').take(3000)\n",
    "negative = tf.data.Dataset.list_files(NEG_PATH+'\\*.jpg').take(3000)"
   ]
  },
  {
   "cell_type": "markdown",
   "metadata": {
    "id": "43hY9BfOyf_c"
   },
   "source": [
    "# 3.2. Preprocess - Scale & Resize"
   ]
  },
  {
   "cell_type": "code",
   "execution_count": null,
   "metadata": {},
   "outputs": [],
   "source": [
    "def preprocess(file_path):\n",
    "    \"\"\"\n",
    "    1. Read image as it is from file path.\n",
    "    2. Load in the image.\n",
    "    3. Preprocessing -\n",
    "                    i. Resize image (100x100x3)\n",
    "                    ii. Rescale the image to between (0-1)\n",
    "    \"\"\"\n",
    "    # 1.\n",
    "    byte_image = tf.io.read_file(file_path)\n",
    "    \n",
    "    # 2.\n",
    "    image = tf.io.decode_jpeg(byte_image)\n",
    "    \n",
    "    # 3.\n",
    "    image = tf.image.resize(image, (100, 100))\n",
    "    image /= 255.0\n",
    "    \n",
    "    return image"
   ]
  },
  {
   "cell_type": "markdown",
   "metadata": {
    "id": "4RdfVuTUynBo"
   },
   "source": [
    "# 3.3. Create labelled dataset"
   ]
  },
  {
   "cell_type": "code",
   "execution_count": null,
   "metadata": {},
   "outputs": [],
   "source": [
    "positives = tf.data.Dataset.zip((anchor, positive, tf.data.Dataset.from_tensor_slices(tf.ones(len(anchor)))))\n",
    "negatives = tf.data.Dataset.zip((anchor, negative, tf.data.Dataset.from_tensor_slices(tf.zeros(len(anchor)))))\n",
    "data = positives.concatenate(negatives)"
   ]
  },
  {
   "cell_type": "code",
   "execution_count": null,
   "metadata": {},
   "outputs": [],
   "source": [
    "len(data)"
   ]
  },
  {
   "cell_type": "markdown",
   "metadata": {
    "id": "d2x_Lsntyrg-"
   },
   "source": [
    "# 3.4. Build train & test partition"
   ]
  },
  {
   "cell_type": "code",
   "execution_count": null,
   "metadata": {},
   "outputs": [],
   "source": [
    "def preprocess_twin(input_img, validation_img, label):\n",
    "    return(preprocess(input_img), preprocess(validation_img), label)"
   ]
  },
  {
   "cell_type": "code",
   "execution_count": null,
   "metadata": {},
   "outputs": [],
   "source": [
    "# dataloader pipeline\n",
    "data = data.map(preprocess_twin)\n",
    "data = data.cache()\n",
    "data = data.shuffle(buffer_size=10000)"
   ]
  },
  {
   "cell_type": "code",
   "execution_count": null,
   "metadata": {},
   "outputs": [],
   "source": [
    "# training partition\n",
    "train_data = data.take(round(len(data) * 0.7))\n",
    "train_data = train_data.batch(16)\n",
    "train_data = train_data.prefetch(8)"
   ]
  },
  {
   "cell_type": "code",
   "execution_count": null,
   "metadata": {},
   "outputs": [],
   "source": [
    "# Valid partition -/ can be used for further model tuning\n",
    "valid_data = data.skip(round(len(data) * 0.7))\n",
    "valid_data = valid_data.take(round(len(valid_data) * 0.7))\n",
    "valid_data = valid_data.batch(16)\n",
    "valid_data = valid_data.prefetch(8)"
   ]
  },
  {
   "cell_type": "code",
   "execution_count": null,
   "metadata": {},
   "outputs": [],
   "source": [
    "# Test partition to check model performance at the end\n",
    "test_data = data.skip(round(len(data) * 0.91))\n",
    "test_data = test_data.batch(16)\n",
    "test_data = test_data.prefetch(8)"
   ]
  },
  {
   "cell_type": "markdown",
   "metadata": {
    "id": "vnX6LSy7yzj-"
   },
   "source": [
    "# 4. Model Engineering"
   ]
  },
  {
   "cell_type": "markdown",
   "metadata": {
    "id": "stYT_v79y6Si"
   },
   "source": [
    "# 4.1. Building Embedding layer"
   ]
  },
  {
   "cell_type": "code",
   "execution_count": null,
   "metadata": {},
   "outputs": [],
   "source": [
    "def make_embedding():\n",
    "    inp = Input((100, 100, 3), name=\"input_image\")\n",
    "    # First block\n",
    "    c1 = Conv2D(64, (10, 10), activation=\"relu\", name=\"conv_layer_1\")(inp)\n",
    "    m1 = MaxPooling2D(64, (2, 2), padding=\"same\", name=\"max-pool_layer_1\")(c1)\n",
    "    \n",
    "    # 2nd block\n",
    "    c2 = Conv2D(128, (7, 7), activation=\"relu\", name=\"conv_layer_2\")(m1)\n",
    "    m2 = MaxPooling2D(64, (2, 2), padding=\"same\", name=\"max-pool_layer_2\")(c2)\n",
    "    \n",
    "    # 3rd block\n",
    "    c3 = Conv2D(128, (4, 4), activation=\"relu\", name=\"conv_layer_3\")(m2)\n",
    "    m3 = MaxPooling2D(64, (2, 2), padding=\"same\", name=\"max-pool_layer_3\")(c3)\n",
    "    \n",
    "    # final embedding\n",
    "    c4 = Conv2D(256, (4, 4), activation=\"relu\", name=\"conv_layer_4\")(m3)\n",
    "    f1 = Flatten(name=\"flatten_layer_1\")(c4)\n",
    "    d1 = Dense(4096, activation=\"sigmoid\", name=\"FCD\")(f1)\n",
    "    \n",
    "    return Model(inputs = [inp], outputs = [d1], name = \"embedding\")"
   ]
  },
  {
   "cell_type": "code",
   "execution_count": null,
   "metadata": {},
   "outputs": [],
   "source": [
    "embedding = make_embedding()\n",
    "embedding.summary()"
   ]
  },
  {
   "cell_type": "markdown",
   "metadata": {},
   "source": [
    "# 4.2. Build distance layer"
   ]
  },
  {
   "cell_type": "code",
   "execution_count": null,
   "metadata": {},
   "outputs": [],
   "source": [
    "class L1Distance(Layer):\n",
    "    \n",
    "    def __init__(self, **kwargs):\n",
    "        super().__init__()\n",
    "       \n",
    "    def call(self, input_embedding, validation_embedding):\n",
    "        return tf.math.abs(input_embedding - validation_embedding)"
   ]
  },
  {
   "cell_type": "markdown",
   "metadata": {},
   "source": [
    "# 4.3. Make Siamese model"
   ]
  },
  {
   "cell_type": "code",
   "execution_count": null,
   "metadata": {},
   "outputs": [],
   "source": [
    "def siamese_model():\n",
    "    # anchor image in the network\n",
    "    input_image = Input(name=\"input_image\", shape=(100, 100, 3))\n",
    "    # validation image in the network\n",
    "    validation_image = Input(name=\"validation_image\", shape=(100, 100, 3))\n",
    "    \n",
    "    # combine siamese distance components\n",
    "    siamese_layer = L1Distance()\n",
    "    siamese_layer._name = \"distance\"\n",
    "    distances = siamese_layer(embedding(input_image), embedding(validation_image))\n",
    "    \n",
    "    # classification layer\n",
    "    classifier = Dense(1, activation=\"sigmoid\", name=\"FCD\")(distances)\n",
    "    \n",
    "    return Model(inputs = [input_image, validation_image], outputs = classifier, name = \"Siamese_Network\")"
   ]
  },
  {
   "cell_type": "code",
   "execution_count": null,
   "metadata": {},
   "outputs": [],
   "source": [
    "siamese_model = siamese_model()\n",
    "siamese_model.summary()"
   ]
  },
  {
   "cell_type": "markdown",
   "metadata": {},
   "source": [
    "# 5. Training"
   ]
  },
  {
   "cell_type": "markdown",
   "metadata": {},
   "source": [
    "# 5.1. Setup Loss & Optimizer"
   ]
  },
  {
   "cell_type": "code",
   "execution_count": null,
   "metadata": {},
   "outputs": [],
   "source": [
    "binary_cross_loss = tf.losses.BinaryCrossentropy() # from_logits=True if the inputs to the function are not normalized"
   ]
  },
  {
   "cell_type": "code",
   "execution_count": null,
   "metadata": {},
   "outputs": [],
   "source": [
    "opt = tf.keras.optimizers.Adam(1e-4)"
   ]
  },
  {
   "cell_type": "markdown",
   "metadata": {},
   "source": [
    "# 5.2. Establish checkpoints"
   ]
  },
  {
   "cell_type": "code",
   "execution_count": null,
   "metadata": {},
   "outputs": [],
   "source": [
    "checkpoints_dir = './training_checkpoints'                 # to use checkpoints use model.load('path_to_checkpoint')\n",
    "checkpoint_prefix = os.path.join(checkpoints_dir, 'chkpt')\n",
    "checkpoint = tf.train.Checkpoint(opt=opt, siamese_model=siamese_model)"
   ]
  },
  {
   "cell_type": "markdown",
   "metadata": {},
   "source": [
    "# 5.3. Build train Step function"
   ]
  },
  {
   "cell_type": "code",
   "execution_count": null,
   "metadata": {},
   "outputs": [],
   "source": [
    "@tf.function\n",
    "def train_step(batch):\n",
    "    \n",
    "    with tf.GradientTape() as tape:\n",
    "        X = batch[:2] # anchor & pos/neg image\n",
    "        y = batch[2] # labels\n",
    "        \n",
    "        # forward pass\n",
    "        yhat = siamese_model(X, training=True)\n",
    "        # calculate true\n",
    "        loss = binary_cross_loss(y, yhat)\n",
    "\n",
    "    # calculate gradients\n",
    "    grad = tape.gradient(loss, siamese_model.trainable_variables)\n",
    "\n",
    "    opt.apply_gradients(zip(grad, siamese_model.trainable_variables))\n",
    "\n",
    "    return loss"
   ]
  },
  {
   "cell_type": "markdown",
   "metadata": {},
   "source": [
    "# 5.4. Build training loop"
   ]
  },
  {
   "cell_type": "code",
   "execution_count": null,
   "metadata": {},
   "outputs": [],
   "source": [
    "# Import metric calculations\n",
    "from tensorflow.keras.metrics import Precision, Recall"
   ]
  },
  {
   "cell_type": "code",
   "execution_count": null,
   "metadata": {},
   "outputs": [],
   "source": [
    "def training(data, EPOCHS):\n",
    "    for epoch in range(1, EPOCHS+1):\n",
    "        print(\"\\n Epoch {}/{}\".format(epoch, EPOCHS))\n",
    "        progbar = tf.keras.utils.Progbar(len(data))\n",
    "        \n",
    "        r = Recall()\n",
    "        p = Precision()\n",
    "        \n",
    "        for idx, batch in enumerate(data):\n",
    "            loss = train_step(batch)\n",
    "            yhat = siamese_model.predict(batch[:2])\n",
    "            r.update_state(batch[2], yhat)\n",
    "            p.update_state(batch[2], yhat) \n",
    "            progbar.update(idx+1)\n",
    "        print(\"Loss: \", loss.numpy(), \"Recall: \", r.result().numpy(), \"Precission: \", p.result().numpy())\n",
    "        \n",
    "        if epoch % 10 == 0:\n",
    "            checkpoint.save(file_prefix=checkpoint_prefix)"
   ]
  },
  {
   "cell_type": "markdown",
   "metadata": {},
   "source": [
    "# 5.5. Train the model"
   ]
  },
  {
   "cell_type": "code",
   "execution_count": null,
   "metadata": {},
   "outputs": [],
   "source": [
    "EPOCHS=20\n",
    "training(train_data, EPOCHS)"
   ]
  },
  {
   "cell_type": "markdown",
   "metadata": {},
   "source": [
    "# 6. Save the model"
   ]
  },
  {
   "cell_type": "code",
   "execution_count": null,
   "metadata": {},
   "outputs": [],
   "source": [
    "# import sys\n",
    "# !pip uninstall --yes --prefix {sys.prefix} h5py=3.6.0 -c pkgs/main"
   ]
  },
  {
   "cell_type": "code",
   "execution_count": null,
   "metadata": {},
   "outputs": [],
   "source": [
    "# !conda install -y -n {envname} {package}"
   ]
  },
  {
   "cell_type": "code",
   "execution_count": null,
   "metadata": {},
   "outputs": [],
   "source": [
    "# import sys\n",
    "# !{sys.executable} -m pip install h5py"
   ]
  },
  {
   "cell_type": "code",
   "execution_count": null,
   "metadata": {
    "scrolled": false
   },
   "outputs": [],
   "source": [
    "import h5py"
   ]
  },
  {
   "cell_type": "code",
   "execution_count": null,
   "metadata": {},
   "outputs": [],
   "source": [
    "siamese_model.save(\"saimese_model.h5\")"
   ]
  },
  {
   "cell_type": "code",
   "execution_count": null,
   "metadata": {},
   "outputs": [],
   "source": [
    "# Reload model \n",
    "siamese_model = tf.keras.models.load_model('saimese_model.h5', \n",
    "                                   custom_objects={'L1Distance':L1Distance, 'BinaryCrossentropy':tf.losses.BinaryCrossentropy})"
   ]
  },
  {
   "cell_type": "markdown",
   "metadata": {},
   "source": [
    "# 6.1. Testing metrics on test data"
   ]
  },
  {
   "cell_type": "code",
   "execution_count": null,
   "metadata": {},
   "outputs": [],
   "source": [
    "# use our test_data\n",
    "r = Recall()\n",
    "p = Precision()\n",
    "\n",
    "for test_input, test_val, y_true in test_data.as_numpy_iterator():\n",
    "    yhat = siamese_model.predict([test_input, test_val])\n",
    "    r.update_state(y_true, yhat)\n",
    "    p.update_state(y_true,yhat) \n",
    "\n",
    "print(r.result().numpy(), p.result().numpy())"
   ]
  },
  {
   "cell_type": "code",
   "execution_count": null,
   "metadata": {},
   "outputs": [],
   "source": [
    "# Let's just make a function of above cells\n",
    "def validation_(data):\n",
    "    progbar = tf.keras.utils.Progbar(len(data))\n",
    "\n",
    "    r = Recall()\n",
    "    p = Precision()\n",
    "\n",
    "    for idx, batch in enumerate(data):\n",
    "        yhat = siamese_model.predict(batch[:2])\n",
    "        r.update_state(batch[2], yhat)\n",
    "        p.update_state(batch[2], yhat) \n",
    "        progbar.update(idx+1)\n",
    "\n",
    "    print(\"Recall: \", r.result().numpy(), \"Precission: \", p.result().numpy())"
   ]
  },
  {
   "cell_type": "code",
   "execution_count": null,
   "metadata": {},
   "outputs": [],
   "source": [
    "validation_(test_data)"
   ]
  },
  {
   "cell_type": "markdown",
   "metadata": {},
   "source": [
    "# 7. Verification function"
   ]
  },
  {
   "cell_type": "code",
   "execution_count": null,
   "metadata": {},
   "outputs": [],
   "source": [
    "def verify(model, detection_threshold, verification_threshold):\n",
    "    results = []\n",
    "    for image in os.listdir(os.path.join('application_data', 'verification_images')):\n",
    "        input_image = preprocess(os.path.join('application_data', 'input_image', 'input_image.jpg'))\n",
    "        validation_image = preprocess(os.path.join('application_data', 'verification_images', image))\n",
    "        \n",
    "        result = model.predict(list(np.expand_dims([input_image, validation_image], axis=1)))\n",
    "        results.append(result)\n",
    "        \n",
    "    # Detection threshold: Metric above which prediction is considered positive\n",
    "    detection = np.sum(np.array(results) > detection_threshold)\n",
    "    # verification threshold: Proportion of positive predictions / total positive samples\n",
    "    verification = detection / len(os.listdir(os.path.join('application_data', 'verification_images')))\n",
    "    verified = verification > verification_threshold\n",
    "    \n",
    "    return results, verified"
   ]
  },
  {
   "cell_type": "markdown",
   "metadata": {},
   "source": [
    "# 7.1. OpenCV Real Time Verification"
   ]
  },
  {
   "cell_type": "code",
   "execution_count": null,
   "metadata": {},
   "outputs": [],
   "source": [
    "cap = cv.VideoCapture(0)\n",
    "while cap.isOpened():\n",
    "    _, frame = cap.read()\n",
    "    frame = frame[120:120+250,200:200+250, :]\n",
    "    \n",
    "    cv.imshow('Verification', frame)\n",
    "    \n",
    "    # Verification trigger\n",
    "    if cv.waitKey(10) & 0xFF == ord('v'):\n",
    "        # Save input image to application_data/input_image folder \n",
    "        cv.imwrite(os.path.join('application_data', 'input_image', 'input_image.jpg'), frame)\n",
    "        # Run verification\n",
    "        results, verified = verify(siamese_model, 0.5, 0.5)\n",
    "        print(verified)\n",
    "    \n",
    "    if cv.waitKey(10) & 0xFF == ord('q'):\n",
    "        break\n",
    "cap.release()\n",
    "cv.destroyAllWindows()"
   ]
  }
 ],
 "metadata": {
  "colab": {
   "provenance": []
  },
  "gpuClass": "standard",
  "kernelspec": {
   "display_name": "Python 3 (ipykernel)",
   "language": "python",
   "name": "python3"
  },
  "language_info": {
   "codemirror_mode": {
    "name": "ipython",
    "version": 3
   },
   "file_extension": ".py",
   "mimetype": "text/x-python",
   "name": "python",
   "nbconvert_exporter": "python",
   "pygments_lexer": "ipython3",
   "version": "3.8.13"
  }
 },
 "nbformat": 4,
 "nbformat_minor": 1
}
